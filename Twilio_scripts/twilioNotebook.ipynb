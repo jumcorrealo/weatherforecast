{
 "cells": [
  {
   "cell_type": "code",
   "execution_count": 45,
   "metadata": {},
   "outputs": [],
   "source": [
    "import os\n",
    "from twilio.rest import Client\n",
    "from twilio_config import TWILIO_ACCOUNT_SID,TWILIO_AUTH_TOKEN,PHONE_NUMBER,API_KEY_WAPI,K_NUMBER,J_NUMBER\n",
    "import time\n",
    "from requests import Request, Session\n",
    "from requests.exceptions import ConnectionError, Timeout, TooManyRedirects\n",
    "import json\n",
    "import pandas as pd\n",
    "import requests\n",
    "from tqdm import tqdm\n",
    "from datetime import datetime\n",
    "from utils import request_wapi,get_forecast,create_df,send_message,get_date"
   ]
  },
  {
   "cell_type": "code",
   "execution_count": 46,
   "metadata": {},
   "outputs": [],
   "source": [
    "query = 'La estrella'\n",
    "api_key = API_KEY_WAPI\n",
    "\n",
    "url = 'http://api.weatherapi.com/v1/forecast.json?key={}&q={}&days=1&aqi=no&alerts=no'.format(api_key,query)"
   ]
  },
  {
   "cell_type": "code",
   "execution_count": 47,
   "metadata": {},
   "outputs": [],
   "source": [
    "response = requests.get(url).json()"
   ]
  },
  {
   "cell_type": "code",
   "execution_count": 48,
   "metadata": {},
   "outputs": [
    {
     "data": {
      "text/plain": [
       "dict_keys(['location', 'current', 'forecast'])"
      ]
     },
     "execution_count": 48,
     "metadata": {},
     "output_type": "execute_result"
    }
   ],
   "source": [
    "response.keys()"
   ]
  },
  {
   "cell_type": "code",
   "execution_count": 49,
   "metadata": {},
   "outputs": [
    {
     "data": {
      "text/plain": [
       "dict_keys(['date', 'date_epoch', 'day', 'astro', 'hour'])"
      ]
     },
     "execution_count": 49,
     "metadata": {},
     "output_type": "execute_result"
    }
   ],
   "source": [
    "response['forecast']['forecastday'][0].keys()"
   ]
  },
  {
   "cell_type": "code",
   "execution_count": 50,
   "metadata": {},
   "outputs": [
    {
     "data": {
      "text/plain": [
       "24"
      ]
     },
     "execution_count": 50,
     "metadata": {},
     "output_type": "execute_result"
    }
   ],
   "source": [
    "len(response['forecast']['forecastday'][0]['hour'])"
   ]
  },
  {
   "cell_type": "code",
   "execution_count": 51,
   "metadata": {},
   "outputs": [
    {
     "data": {
      "text/plain": [
       "'2023-06-22'"
      ]
     },
     "execution_count": 51,
     "metadata": {},
     "output_type": "execute_result"
    }
   ],
   "source": [
    "response['forecast']['forecastday'][0]['hour'][1]['time'].split()[0]"
   ]
  },
  {
   "cell_type": "code",
   "execution_count": 52,
   "metadata": {},
   "outputs": [
    {
     "data": {
      "text/plain": [
       "'01'"
      ]
     },
     "execution_count": 52,
     "metadata": {},
     "output_type": "execute_result"
    }
   ],
   "source": [
    "response['forecast']['forecastday'][0]['hour'][1]['time'].split()[1].split(':')[0]"
   ]
  },
  {
   "cell_type": "code",
   "execution_count": 53,
   "metadata": {},
   "outputs": [
    {
     "data": {
      "text/plain": [
       "'Patchy rain possible'"
      ]
     },
     "execution_count": 53,
     "metadata": {},
     "output_type": "execute_result"
    }
   ],
   "source": [
    "response['forecast']['forecastday'][0]['hour'][0]['condition']['text']"
   ]
  },
  {
   "cell_type": "code",
   "execution_count": 54,
   "metadata": {},
   "outputs": [
    {
     "data": {
      "text/plain": [
       "12.6"
      ]
     },
     "execution_count": 54,
     "metadata": {},
     "output_type": "execute_result"
    }
   ],
   "source": [
    "response['forecast']['forecastday'][0]['hour'][0]['temp_c']"
   ]
  },
  {
   "cell_type": "code",
   "execution_count": 55,
   "metadata": {},
   "outputs": [
    {
     "data": {
      "text/plain": [
       "1"
      ]
     },
     "execution_count": 55,
     "metadata": {},
     "output_type": "execute_result"
    }
   ],
   "source": [
    "response['forecast']['forecastday'][0]['hour'][0]['will_it_rain']"
   ]
  },
  {
   "cell_type": "code",
   "execution_count": 56,
   "metadata": {},
   "outputs": [
    {
     "data": {
      "text/plain": [
       "77"
      ]
     },
     "execution_count": 56,
     "metadata": {},
     "output_type": "execute_result"
    }
   ],
   "source": [
    "response['forecast']['forecastday'][0]['hour'][0]['chance_of_rain']"
   ]
  },
  {
   "attachments": {},
   "cell_type": "markdown",
   "metadata": {},
   "source": [
    "## Dataframe"
   ]
  },
  {
   "cell_type": "code",
   "execution_count": 57,
   "metadata": {},
   "outputs": [],
   "source": [
    "def get_forecast(response,i):\n",
    "\n",
    "    fecha = response['forecast']['forecastday'][0]['hour'][i]['time'].split()[0]\n",
    "    hora = response['forecast']['forecastday'][0]['hour'][i]['time'].split()[1].split(':')[0]\n",
    "    condicion = response['forecast']['forecastday'][0]['hour'][i]['condition']['text']\n",
    "    temp = response['forecast']['forecastday'][0]['hour'][i]['temp_c']\n",
    "    rain = response['forecast']['forecastday'][0]['hour'][i]['will_it_rain']\n",
    "    rain_prov = response['forecast']['forecastday'][0]['hour'][i]['chance_of_rain']\n",
    "    \n",
    "    return fecha,hora,condicion,temp,rain,rain_prov"
   ]
  },
  {
   "cell_type": "code",
   "execution_count": 58,
   "metadata": {},
   "outputs": [
    {
     "name": "stderr",
     "output_type": "stream",
     "text": [
      "100%|\u001b[32m██████████\u001b[0m| 24/24 [00:00<00:00, 23984.58it/s]\n"
     ]
    }
   ],
   "source": [
    "datos = []\n",
    "\n",
    "for i in tqdm(range(len(response['forecast']['forecastday'][0]['hour'])), colour = 'green'):\n",
    "\n",
    "    datos.append(get_forecast(response,i))"
   ]
  },
  {
   "cell_type": "code",
   "execution_count": 59,
   "metadata": {},
   "outputs": [
    {
     "data": {
      "text/plain": [
       "[('2023-06-22', '00', 'Patchy rain possible', 12.6, 1, 77),\n",
       " ('2023-06-22', '01', 'Patchy rain possible', 12.4, 1, 79),\n",
       " ('2023-06-22', '02', 'Partly cloudy', 12.2, 0, 0),\n",
       " ('2023-06-22', '03', 'Mist', 12.1, 0, 0),\n",
       " ('2023-06-22', '04', 'Mist', 12.0, 0, 0),\n",
       " ('2023-06-22', '05', 'Mist', 12.0, 0, 0),\n",
       " ('2023-06-22', '06', 'Mist', 11.9, 0, 0),\n",
       " ('2023-06-22', '07', 'Sunny', 16.3, 0, 0),\n",
       " ('2023-06-22', '08', 'Sunny', 19.5, 0, 0),\n",
       " ('2023-06-22', '09', 'Sunny', 22.2, 0, 0),\n",
       " ('2023-06-22', '10', 'Patchy rain possible', 23.4, 1, 77),\n",
       " ('2023-06-22', '11', 'Patchy rain possible', 24.8, 1, 78),\n",
       " ('2023-06-22', '12', 'Patchy rain possible', 27.1, 0, 60),\n",
       " ('2023-06-22', '13', 'Patchy rain possible', 27.5, 1, 71),\n",
       " ('2023-06-22', '14', 'Patchy rain possible', 26.9, 1, 86),\n",
       " ('2023-06-22', '15', 'Sunny', 26.9, 0, 0),\n",
       " ('2023-06-22', '16', 'Patchy rain possible', 24.6, 0, 62),\n",
       " ('2023-06-22', '17', 'Sunny', 22.0, 0, 0),\n",
       " ('2023-06-22', '18', 'Patchy rain possible', 18.0, 0, 60),\n",
       " ('2023-06-22', '19', 'Patchy rain possible', 15.7, 1, 72),\n",
       " ('2023-06-22', '20', 'Light rain shower', 14.0, 1, 83),\n",
       " ('2023-06-22', '21', 'Light rain shower', 13.9, 1, 76),\n",
       " ('2023-06-22', '22', 'Light rain shower', 13.8, 1, 86),\n",
       " ('2023-06-22', '23', 'Light rain shower', 13.5, 1, 86)]"
      ]
     },
     "execution_count": 59,
     "metadata": {},
     "output_type": "execute_result"
    }
   ],
   "source": [
    "datos"
   ]
  },
  {
   "cell_type": "code",
   "execution_count": 60,
   "metadata": {},
   "outputs": [],
   "source": [
    "col = ['Fecha','Hora','Condicion','Temp','Rain','Rain_prov']\n",
    "df = pd.DataFrame(datos,columns=col)"
   ]
  },
  {
   "cell_type": "code",
   "execution_count": 61,
   "metadata": {},
   "outputs": [
    {
     "data": {
      "text/html": [
       "<div>\n",
       "<style scoped>\n",
       "    .dataframe tbody tr th:only-of-type {\n",
       "        vertical-align: middle;\n",
       "    }\n",
       "\n",
       "    .dataframe tbody tr th {\n",
       "        vertical-align: top;\n",
       "    }\n",
       "\n",
       "    .dataframe thead th {\n",
       "        text-align: right;\n",
       "    }\n",
       "</style>\n",
       "<table border=\"1\" class=\"dataframe\">\n",
       "  <thead>\n",
       "    <tr style=\"text-align: right;\">\n",
       "      <th></th>\n",
       "      <th>Fecha</th>\n",
       "      <th>Hora</th>\n",
       "      <th>Condicion</th>\n",
       "      <th>Temp</th>\n",
       "      <th>Rain</th>\n",
       "      <th>Rain_prov</th>\n",
       "    </tr>\n",
       "  </thead>\n",
       "  <tbody>\n",
       "    <tr>\n",
       "      <th>0</th>\n",
       "      <td>2023-06-22</td>\n",
       "      <td>00</td>\n",
       "      <td>Patchy rain possible</td>\n",
       "      <td>12.6</td>\n",
       "      <td>1</td>\n",
       "      <td>77</td>\n",
       "    </tr>\n",
       "    <tr>\n",
       "      <th>1</th>\n",
       "      <td>2023-06-22</td>\n",
       "      <td>01</td>\n",
       "      <td>Patchy rain possible</td>\n",
       "      <td>12.4</td>\n",
       "      <td>1</td>\n",
       "      <td>79</td>\n",
       "    </tr>\n",
       "    <tr>\n",
       "      <th>2</th>\n",
       "      <td>2023-06-22</td>\n",
       "      <td>02</td>\n",
       "      <td>Partly cloudy</td>\n",
       "      <td>12.2</td>\n",
       "      <td>0</td>\n",
       "      <td>0</td>\n",
       "    </tr>\n",
       "    <tr>\n",
       "      <th>3</th>\n",
       "      <td>2023-06-22</td>\n",
       "      <td>03</td>\n",
       "      <td>Mist</td>\n",
       "      <td>12.1</td>\n",
       "      <td>0</td>\n",
       "      <td>0</td>\n",
       "    </tr>\n",
       "    <tr>\n",
       "      <th>4</th>\n",
       "      <td>2023-06-22</td>\n",
       "      <td>04</td>\n",
       "      <td>Mist</td>\n",
       "      <td>12.0</td>\n",
       "      <td>0</td>\n",
       "      <td>0</td>\n",
       "    </tr>\n",
       "    <tr>\n",
       "      <th>5</th>\n",
       "      <td>2023-06-22</td>\n",
       "      <td>05</td>\n",
       "      <td>Mist</td>\n",
       "      <td>12.0</td>\n",
       "      <td>0</td>\n",
       "      <td>0</td>\n",
       "    </tr>\n",
       "    <tr>\n",
       "      <th>6</th>\n",
       "      <td>2023-06-22</td>\n",
       "      <td>06</td>\n",
       "      <td>Mist</td>\n",
       "      <td>11.9</td>\n",
       "      <td>0</td>\n",
       "      <td>0</td>\n",
       "    </tr>\n",
       "    <tr>\n",
       "      <th>7</th>\n",
       "      <td>2023-06-22</td>\n",
       "      <td>07</td>\n",
       "      <td>Sunny</td>\n",
       "      <td>16.3</td>\n",
       "      <td>0</td>\n",
       "      <td>0</td>\n",
       "    </tr>\n",
       "    <tr>\n",
       "      <th>8</th>\n",
       "      <td>2023-06-22</td>\n",
       "      <td>08</td>\n",
       "      <td>Sunny</td>\n",
       "      <td>19.5</td>\n",
       "      <td>0</td>\n",
       "      <td>0</td>\n",
       "    </tr>\n",
       "    <tr>\n",
       "      <th>9</th>\n",
       "      <td>2023-06-22</td>\n",
       "      <td>09</td>\n",
       "      <td>Sunny</td>\n",
       "      <td>22.2</td>\n",
       "      <td>0</td>\n",
       "      <td>0</td>\n",
       "    </tr>\n",
       "    <tr>\n",
       "      <th>10</th>\n",
       "      <td>2023-06-22</td>\n",
       "      <td>10</td>\n",
       "      <td>Patchy rain possible</td>\n",
       "      <td>23.4</td>\n",
       "      <td>1</td>\n",
       "      <td>77</td>\n",
       "    </tr>\n",
       "    <tr>\n",
       "      <th>11</th>\n",
       "      <td>2023-06-22</td>\n",
       "      <td>11</td>\n",
       "      <td>Patchy rain possible</td>\n",
       "      <td>24.8</td>\n",
       "      <td>1</td>\n",
       "      <td>78</td>\n",
       "    </tr>\n",
       "    <tr>\n",
       "      <th>12</th>\n",
       "      <td>2023-06-22</td>\n",
       "      <td>12</td>\n",
       "      <td>Patchy rain possible</td>\n",
       "      <td>27.1</td>\n",
       "      <td>0</td>\n",
       "      <td>60</td>\n",
       "    </tr>\n",
       "    <tr>\n",
       "      <th>13</th>\n",
       "      <td>2023-06-22</td>\n",
       "      <td>13</td>\n",
       "      <td>Patchy rain possible</td>\n",
       "      <td>27.5</td>\n",
       "      <td>1</td>\n",
       "      <td>71</td>\n",
       "    </tr>\n",
       "    <tr>\n",
       "      <th>14</th>\n",
       "      <td>2023-06-22</td>\n",
       "      <td>14</td>\n",
       "      <td>Patchy rain possible</td>\n",
       "      <td>26.9</td>\n",
       "      <td>1</td>\n",
       "      <td>86</td>\n",
       "    </tr>\n",
       "    <tr>\n",
       "      <th>15</th>\n",
       "      <td>2023-06-22</td>\n",
       "      <td>15</td>\n",
       "      <td>Sunny</td>\n",
       "      <td>26.9</td>\n",
       "      <td>0</td>\n",
       "      <td>0</td>\n",
       "    </tr>\n",
       "    <tr>\n",
       "      <th>16</th>\n",
       "      <td>2023-06-22</td>\n",
       "      <td>16</td>\n",
       "      <td>Patchy rain possible</td>\n",
       "      <td>24.6</td>\n",
       "      <td>0</td>\n",
       "      <td>62</td>\n",
       "    </tr>\n",
       "    <tr>\n",
       "      <th>17</th>\n",
       "      <td>2023-06-22</td>\n",
       "      <td>17</td>\n",
       "      <td>Sunny</td>\n",
       "      <td>22.0</td>\n",
       "      <td>0</td>\n",
       "      <td>0</td>\n",
       "    </tr>\n",
       "    <tr>\n",
       "      <th>18</th>\n",
       "      <td>2023-06-22</td>\n",
       "      <td>18</td>\n",
       "      <td>Patchy rain possible</td>\n",
       "      <td>18.0</td>\n",
       "      <td>0</td>\n",
       "      <td>60</td>\n",
       "    </tr>\n",
       "    <tr>\n",
       "      <th>19</th>\n",
       "      <td>2023-06-22</td>\n",
       "      <td>19</td>\n",
       "      <td>Patchy rain possible</td>\n",
       "      <td>15.7</td>\n",
       "      <td>1</td>\n",
       "      <td>72</td>\n",
       "    </tr>\n",
       "    <tr>\n",
       "      <th>20</th>\n",
       "      <td>2023-06-22</td>\n",
       "      <td>20</td>\n",
       "      <td>Light rain shower</td>\n",
       "      <td>14.0</td>\n",
       "      <td>1</td>\n",
       "      <td>83</td>\n",
       "    </tr>\n",
       "    <tr>\n",
       "      <th>21</th>\n",
       "      <td>2023-06-22</td>\n",
       "      <td>21</td>\n",
       "      <td>Light rain shower</td>\n",
       "      <td>13.9</td>\n",
       "      <td>1</td>\n",
       "      <td>76</td>\n",
       "    </tr>\n",
       "    <tr>\n",
       "      <th>22</th>\n",
       "      <td>2023-06-22</td>\n",
       "      <td>22</td>\n",
       "      <td>Light rain shower</td>\n",
       "      <td>13.8</td>\n",
       "      <td>1</td>\n",
       "      <td>86</td>\n",
       "    </tr>\n",
       "    <tr>\n",
       "      <th>23</th>\n",
       "      <td>2023-06-22</td>\n",
       "      <td>23</td>\n",
       "      <td>Light rain shower</td>\n",
       "      <td>13.5</td>\n",
       "      <td>1</td>\n",
       "      <td>86</td>\n",
       "    </tr>\n",
       "  </tbody>\n",
       "</table>\n",
       "</div>"
      ],
      "text/plain": [
       "         Fecha Hora             Condicion  Temp  Rain  Rain_prov\n",
       "0   2023-06-22   00  Patchy rain possible  12.6     1         77\n",
       "1   2023-06-22   01  Patchy rain possible  12.4     1         79\n",
       "2   2023-06-22   02         Partly cloudy  12.2     0          0\n",
       "3   2023-06-22   03                  Mist  12.1     0          0\n",
       "4   2023-06-22   04                  Mist  12.0     0          0\n",
       "5   2023-06-22   05                  Mist  12.0     0          0\n",
       "6   2023-06-22   06                  Mist  11.9     0          0\n",
       "7   2023-06-22   07                 Sunny  16.3     0          0\n",
       "8   2023-06-22   08                 Sunny  19.5     0          0\n",
       "9   2023-06-22   09                 Sunny  22.2     0          0\n",
       "10  2023-06-22   10  Patchy rain possible  23.4     1         77\n",
       "11  2023-06-22   11  Patchy rain possible  24.8     1         78\n",
       "12  2023-06-22   12  Patchy rain possible  27.1     0         60\n",
       "13  2023-06-22   13  Patchy rain possible  27.5     1         71\n",
       "14  2023-06-22   14  Patchy rain possible  26.9     1         86\n",
       "15  2023-06-22   15                 Sunny  26.9     0          0\n",
       "16  2023-06-22   16  Patchy rain possible  24.6     0         62\n",
       "17  2023-06-22   17                 Sunny  22.0     0          0\n",
       "18  2023-06-22   18  Patchy rain possible  18.0     0         60\n",
       "19  2023-06-22   19  Patchy rain possible  15.7     1         72\n",
       "20  2023-06-22   20     Light rain shower  14.0     1         83\n",
       "21  2023-06-22   21     Light rain shower  13.9     1         76\n",
       "22  2023-06-22   22     Light rain shower  13.8     1         86\n",
       "23  2023-06-22   23     Light rain shower  13.5     1         86"
      ]
     },
     "execution_count": 61,
     "metadata": {},
     "output_type": "execute_result"
    }
   ],
   "source": [
    "df"
   ]
  },
  {
   "cell_type": "code",
   "execution_count": 62,
   "metadata": {},
   "outputs": [],
   "source": [
    "df_rain = df[(df['Rain'] == 1)]\n",
    "df_redu = df_rain[['Hora','Temp','Condicion']]\n",
    "df_redu.set_index('Hora',inplace = True)"
   ]
  },
  {
   "cell_type": "code",
   "execution_count": 63,
   "metadata": {},
   "outputs": [
    {
     "data": {
      "text/plain": [
       "13"
      ]
     },
     "execution_count": 63,
     "metadata": {},
     "output_type": "execute_result"
    }
   ],
   "source": [
    "from datetime import datetime\n",
    "\n",
    "datetime.now().time().hour"
   ]
  },
  {
   "cell_type": "code",
   "execution_count": 64,
   "metadata": {},
   "outputs": [],
   "source": [
    "df_temp = df[['Hora','Temp','Condicion']]\n"
   ]
  },
  {
   "cell_type": "code",
   "execution_count": 65,
   "metadata": {},
   "outputs": [],
   "source": [
    "current_hour = str(datetime.now().time().hour)\n",
    "if len(current_hour) == 1:\n",
    "    current_hour = current_hour.zfill(2)\n",
    "\n",
    "df_temp = df_temp[df_temp['Hora'] == current_hour]"
   ]
  },
  {
   "cell_type": "code",
   "execution_count": 66,
   "metadata": {},
   "outputs": [
    {
     "data": {
      "text/plain": [
       "13"
      ]
     },
     "execution_count": 66,
     "metadata": {},
     "output_type": "execute_result"
    }
   ],
   "source": [
    "datetime.now().time().hour"
   ]
  },
  {
   "cell_type": "code",
   "execution_count": 67,
   "metadata": {},
   "outputs": [
    {
     "data": {
      "text/html": [
       "<div>\n",
       "<style scoped>\n",
       "    .dataframe tbody tr th:only-of-type {\n",
       "        vertical-align: middle;\n",
       "    }\n",
       "\n",
       "    .dataframe tbody tr th {\n",
       "        vertical-align: top;\n",
       "    }\n",
       "\n",
       "    .dataframe thead th {\n",
       "        text-align: right;\n",
       "    }\n",
       "</style>\n",
       "<table border=\"1\" class=\"dataframe\">\n",
       "  <thead>\n",
       "    <tr style=\"text-align: right;\">\n",
       "      <th></th>\n",
       "      <th>Hora</th>\n",
       "      <th>Temp</th>\n",
       "      <th>Condicion</th>\n",
       "    </tr>\n",
       "  </thead>\n",
       "  <tbody>\n",
       "    <tr>\n",
       "      <th>13</th>\n",
       "      <td>13</td>\n",
       "      <td>27.5</td>\n",
       "      <td>Patchy rain possible</td>\n",
       "    </tr>\n",
       "  </tbody>\n",
       "</table>\n",
       "</div>"
      ],
      "text/plain": [
       "   Hora  Temp             Condicion\n",
       "13   13  27.5  Patchy rain possible"
      ]
     },
     "execution_count": 67,
     "metadata": {},
     "output_type": "execute_result"
    }
   ],
   "source": [
    "df_temp"
   ]
  },
  {
   "cell_type": "code",
   "execution_count": 68,
   "metadata": {},
   "outputs": [],
   "source": [
    "df_temp.set_index('Hora',inplace = True)"
   ]
  },
  {
   "cell_type": "code",
   "execution_count": 69,
   "metadata": {},
   "outputs": [
    {
     "data": {
      "text/html": [
       "<div>\n",
       "<style scoped>\n",
       "    .dataframe tbody tr th:only-of-type {\n",
       "        vertical-align: middle;\n",
       "    }\n",
       "\n",
       "    .dataframe tbody tr th {\n",
       "        vertical-align: top;\n",
       "    }\n",
       "\n",
       "    .dataframe thead th {\n",
       "        text-align: right;\n",
       "    }\n",
       "</style>\n",
       "<table border=\"1\" class=\"dataframe\">\n",
       "  <thead>\n",
       "    <tr style=\"text-align: right;\">\n",
       "      <th></th>\n",
       "      <th>Temp</th>\n",
       "      <th>Condicion</th>\n",
       "    </tr>\n",
       "    <tr>\n",
       "      <th>Hora</th>\n",
       "      <th></th>\n",
       "      <th></th>\n",
       "    </tr>\n",
       "  </thead>\n",
       "  <tbody>\n",
       "    <tr>\n",
       "      <th>00</th>\n",
       "      <td>12.6</td>\n",
       "      <td>Patchy rain possible</td>\n",
       "    </tr>\n",
       "    <tr>\n",
       "      <th>01</th>\n",
       "      <td>12.4</td>\n",
       "      <td>Patchy rain possible</td>\n",
       "    </tr>\n",
       "    <tr>\n",
       "      <th>10</th>\n",
       "      <td>23.4</td>\n",
       "      <td>Patchy rain possible</td>\n",
       "    </tr>\n",
       "    <tr>\n",
       "      <th>11</th>\n",
       "      <td>24.8</td>\n",
       "      <td>Patchy rain possible</td>\n",
       "    </tr>\n",
       "    <tr>\n",
       "      <th>13</th>\n",
       "      <td>27.5</td>\n",
       "      <td>Patchy rain possible</td>\n",
       "    </tr>\n",
       "    <tr>\n",
       "      <th>14</th>\n",
       "      <td>26.9</td>\n",
       "      <td>Patchy rain possible</td>\n",
       "    </tr>\n",
       "    <tr>\n",
       "      <th>19</th>\n",
       "      <td>15.7</td>\n",
       "      <td>Patchy rain possible</td>\n",
       "    </tr>\n",
       "    <tr>\n",
       "      <th>20</th>\n",
       "      <td>14.0</td>\n",
       "      <td>Light rain shower</td>\n",
       "    </tr>\n",
       "    <tr>\n",
       "      <th>21</th>\n",
       "      <td>13.9</td>\n",
       "      <td>Light rain shower</td>\n",
       "    </tr>\n",
       "    <tr>\n",
       "      <th>22</th>\n",
       "      <td>13.8</td>\n",
       "      <td>Light rain shower</td>\n",
       "    </tr>\n",
       "    <tr>\n",
       "      <th>23</th>\n",
       "      <td>13.5</td>\n",
       "      <td>Light rain shower</td>\n",
       "    </tr>\n",
       "  </tbody>\n",
       "</table>\n",
       "</div>"
      ],
      "text/plain": [
       "      Temp             Condicion\n",
       "Hora                            \n",
       "00    12.6  Patchy rain possible\n",
       "01    12.4  Patchy rain possible\n",
       "10    23.4  Patchy rain possible\n",
       "11    24.8  Patchy rain possible\n",
       "13    27.5  Patchy rain possible\n",
       "14    26.9  Patchy rain possible\n",
       "19    15.7  Patchy rain possible\n",
       "20    14.0     Light rain shower\n",
       "21    13.9     Light rain shower\n",
       "22    13.8     Light rain shower\n",
       "23    13.5     Light rain shower"
      ]
     },
     "execution_count": 69,
     "metadata": {},
     "output_type": "execute_result"
    }
   ],
   "source": [
    "df_redu"
   ]
  },
  {
   "cell_type": "code",
   "execution_count": 70,
   "metadata": {},
   "outputs": [
    {
     "name": "stdout",
     "output_type": "stream",
     "text": [
      "wuju\n"
     ]
    }
   ],
   "source": [
    "\n",
    "if df_redu.empty:\n",
    "    print('no hay plan arrunchis, no va a llover :C')\n",
    "else:\n",
    "    print('wuju')"
   ]
  },
  {
   "cell_type": "code",
   "execution_count": 71,
   "metadata": {},
   "outputs": [
    {
     "data": {
      "text/html": [
       "<div>\n",
       "<style scoped>\n",
       "    .dataframe tbody tr th:only-of-type {\n",
       "        vertical-align: middle;\n",
       "    }\n",
       "\n",
       "    .dataframe tbody tr th {\n",
       "        vertical-align: top;\n",
       "    }\n",
       "\n",
       "    .dataframe thead th {\n",
       "        text-align: right;\n",
       "    }\n",
       "</style>\n",
       "<table border=\"1\" class=\"dataframe\">\n",
       "  <thead>\n",
       "    <tr style=\"text-align: right;\">\n",
       "      <th></th>\n",
       "      <th>Temp</th>\n",
       "      <th>Condicion</th>\n",
       "    </tr>\n",
       "    <tr>\n",
       "      <th>Hora</th>\n",
       "      <th></th>\n",
       "      <th></th>\n",
       "    </tr>\n",
       "  </thead>\n",
       "  <tbody>\n",
       "    <tr>\n",
       "      <th>00</th>\n",
       "      <td>12.6</td>\n",
       "      <td>Patchy rain possible</td>\n",
       "    </tr>\n",
       "    <tr>\n",
       "      <th>01</th>\n",
       "      <td>12.4</td>\n",
       "      <td>Patchy rain possible</td>\n",
       "    </tr>\n",
       "    <tr>\n",
       "      <th>10</th>\n",
       "      <td>23.4</td>\n",
       "      <td>Patchy rain possible</td>\n",
       "    </tr>\n",
       "    <tr>\n",
       "      <th>11</th>\n",
       "      <td>24.8</td>\n",
       "      <td>Patchy rain possible</td>\n",
       "    </tr>\n",
       "    <tr>\n",
       "      <th>13</th>\n",
       "      <td>27.5</td>\n",
       "      <td>Patchy rain possible</td>\n",
       "    </tr>\n",
       "    <tr>\n",
       "      <th>14</th>\n",
       "      <td>26.9</td>\n",
       "      <td>Patchy rain possible</td>\n",
       "    </tr>\n",
       "    <tr>\n",
       "      <th>19</th>\n",
       "      <td>15.7</td>\n",
       "      <td>Patchy rain possible</td>\n",
       "    </tr>\n",
       "    <tr>\n",
       "      <th>20</th>\n",
       "      <td>14.0</td>\n",
       "      <td>Light rain shower</td>\n",
       "    </tr>\n",
       "    <tr>\n",
       "      <th>21</th>\n",
       "      <td>13.9</td>\n",
       "      <td>Light rain shower</td>\n",
       "    </tr>\n",
       "    <tr>\n",
       "      <th>22</th>\n",
       "      <td>13.8</td>\n",
       "      <td>Light rain shower</td>\n",
       "    </tr>\n",
       "    <tr>\n",
       "      <th>23</th>\n",
       "      <td>13.5</td>\n",
       "      <td>Light rain shower</td>\n",
       "    </tr>\n",
       "  </tbody>\n",
       "</table>\n",
       "</div>"
      ],
      "text/plain": [
       "      Temp             Condicion\n",
       "Hora                            \n",
       "00    12.6  Patchy rain possible\n",
       "01    12.4  Patchy rain possible\n",
       "10    23.4  Patchy rain possible\n",
       "11    24.8  Patchy rain possible\n",
       "13    27.5  Patchy rain possible\n",
       "14    26.9  Patchy rain possible\n",
       "19    15.7  Patchy rain possible\n",
       "20    14.0     Light rain shower\n",
       "21    13.9     Light rain shower\n",
       "22    13.8     Light rain shower\n",
       "23    13.5     Light rain shower"
      ]
     },
     "execution_count": 71,
     "metadata": {},
     "output_type": "execute_result"
    }
   ],
   "source": [
    "df_redu"
   ]
  },
  {
   "cell_type": "code",
   "execution_count": 72,
   "metadata": {},
   "outputs": [],
   "source": [
    "k = K_NUMBER\n",
    "j = J_NUMBER"
   ]
  },
  {
   "attachments": {},
   "cell_type": "markdown",
   "metadata": {},
   "source": [
    "## Mensaje SMS desde twilio"
   ]
  },
  {
   "cell_type": "code",
   "execution_count": 73,
   "metadata": {},
   "outputs": [],
   "source": [
    "# Download the helper library from https://www.twilio.com/docs/python/install\n",
    "import os\n",
    "from twilio.rest import Client\n"
   ]
  },
  {
   "cell_type": "code",
   "execution_count": 74,
   "metadata": {},
   "outputs": [],
   "source": [
    "time.sleep(2)\n",
    "account_sid = TWILIO_ACCOUNT_SID\n",
    "auth_token = TWILIO_AUTH_TOKEN"
   ]
  },
  {
   "cell_type": "code",
   "execution_count": 75,
   "metadata": {},
   "outputs": [
    {
     "data": {
      "text/plain": [
       "'Hoy va a llover, abrígate bien :) \\n\\n\\n       Temp             Condicion\\nHora                            \\n00    12.6  Patchy rain possible\\n01    12.4  Patchy rain possible\\n10    23.4  Patchy rain possible\\n11    24.8  Patchy rain possible\\n13    27.5  Patchy rain possible\\n14    26.9  Patchy rain possible\\n19    15.7  Patchy rain possible\\n20    14.0     Light rain shower\\n21    13.9     Light rain shower\\n22    13.8     Light rain shower\\n23    13.5     Light rain shower'"
      ]
     },
     "execution_count": 75,
     "metadata": {},
     "output_type": "execute_result"
    }
   ],
   "source": [
    "'Hoy va a llover, abrígate bien :) \\n\\n\\n ' + str(df_redu)\n"
   ]
  },
  {
   "cell_type": "code",
   "execution_count": 76,
   "metadata": {},
   "outputs": [
    {
     "name": "stdout",
     "output_type": "stream",
     "text": [
      "Mensaje enviado:  SM12dea92f9d66ce382c6362e81a4d28e0 \n",
      " Hoy va a llover en La estrella, abrígate bien :) \n",
      "\n",
      "\n",
      "       Temp             Condicion\n",
      "Hora                            \n",
      "13    27.5  Patchy rain possible\n"
     ]
    }
   ],
   "source": [
    "\n",
    "\n",
    "# Find your Account SID and Auth Token at twilio.com/console\n",
    "# and set the environment variables. See http://twil.io/secure\n",
    "\n",
    "client = Client(account_sid, auth_token)\n",
    "if df_redu.empty:\n",
    "    template = '\\n Hoy no hay arrunchis, no va a llover :c \\n\\n\\n ' + str(df_redu) \n",
    "else:\n",
    "    template = '\\n Hoy va a llover en '+ query +', abrígate bien :) \\n\\n\\n ' + str(df_temp)\n",
    "\n",
    "message = client.messages \\\n",
    "    .create(\n",
    "        \n",
    "        body=template,\n",
    "        from_=PHONE_NUMBER,\n",
    "        to=k\n",
    "     )\n",
    "\n",
    "print('Mensaje enviado: ',message.sid, template)\n",
    "\n"
   ]
  },
  {
   "cell_type": "code",
   "execution_count": 77,
   "metadata": {},
   "outputs": [
    {
     "data": {
      "text/plain": [
       "'Hoy va a llover en La estrella, abrígate bien :) \\n\\n\\n       Temp             Condicion\\nHora                            \\n13    27.5  Patchy rain possible'"
      ]
     },
     "execution_count": 77,
     "metadata": {},
     "output_type": "execute_result"
    }
   ],
   "source": [
    "'Hoy va a llover en '+ query +', abrígate bien :) \\n\\n\\n ' + str(df_temp)"
   ]
  },
  {
   "cell_type": "code",
   "execution_count": 78,
   "metadata": {},
   "outputs": [
    {
     "data": {
      "text/html": [
       "<div>\n",
       "<style scoped>\n",
       "    .dataframe tbody tr th:only-of-type {\n",
       "        vertical-align: middle;\n",
       "    }\n",
       "\n",
       "    .dataframe tbody tr th {\n",
       "        vertical-align: top;\n",
       "    }\n",
       "\n",
       "    .dataframe thead th {\n",
       "        text-align: right;\n",
       "    }\n",
       "</style>\n",
       "<table border=\"1\" class=\"dataframe\">\n",
       "  <thead>\n",
       "    <tr style=\"text-align: right;\">\n",
       "      <th></th>\n",
       "      <th>Temp</th>\n",
       "      <th>Condicion</th>\n",
       "    </tr>\n",
       "    <tr>\n",
       "      <th>Hora</th>\n",
       "      <th></th>\n",
       "      <th></th>\n",
       "    </tr>\n",
       "  </thead>\n",
       "  <tbody>\n",
       "    <tr>\n",
       "      <th>13</th>\n",
       "      <td>27.5</td>\n",
       "      <td>Patchy rain possible</td>\n",
       "    </tr>\n",
       "  </tbody>\n",
       "</table>\n",
       "</div>"
      ],
      "text/plain": [
       "      Temp             Condicion\n",
       "Hora                            \n",
       "13    27.5  Patchy rain possible"
      ]
     },
     "execution_count": 78,
     "metadata": {},
     "output_type": "execute_result"
    }
   ],
   "source": [
    "df_temp"
   ]
  },
  {
   "cell_type": "code",
   "execution_count": 79,
   "metadata": {},
   "outputs": [
    {
     "data": {
      "text/html": [
       "<div>\n",
       "<style scoped>\n",
       "    .dataframe tbody tr th:only-of-type {\n",
       "        vertical-align: middle;\n",
       "    }\n",
       "\n",
       "    .dataframe tbody tr th {\n",
       "        vertical-align: top;\n",
       "    }\n",
       "\n",
       "    .dataframe thead th {\n",
       "        text-align: right;\n",
       "    }\n",
       "</style>\n",
       "<table border=\"1\" class=\"dataframe\">\n",
       "  <thead>\n",
       "    <tr style=\"text-align: right;\">\n",
       "      <th></th>\n",
       "      <th>Fecha</th>\n",
       "      <th>Hora</th>\n",
       "      <th>Condicion</th>\n",
       "      <th>Temp</th>\n",
       "      <th>Rain</th>\n",
       "      <th>Rain_prov</th>\n",
       "    </tr>\n",
       "  </thead>\n",
       "  <tbody>\n",
       "    <tr>\n",
       "      <th>0</th>\n",
       "      <td>2023-06-22</td>\n",
       "      <td>00</td>\n",
       "      <td>Patchy rain possible</td>\n",
       "      <td>12.6</td>\n",
       "      <td>1</td>\n",
       "      <td>77</td>\n",
       "    </tr>\n",
       "    <tr>\n",
       "      <th>1</th>\n",
       "      <td>2023-06-22</td>\n",
       "      <td>01</td>\n",
       "      <td>Patchy rain possible</td>\n",
       "      <td>12.4</td>\n",
       "      <td>1</td>\n",
       "      <td>79</td>\n",
       "    </tr>\n",
       "    <tr>\n",
       "      <th>2</th>\n",
       "      <td>2023-06-22</td>\n",
       "      <td>02</td>\n",
       "      <td>Partly cloudy</td>\n",
       "      <td>12.2</td>\n",
       "      <td>0</td>\n",
       "      <td>0</td>\n",
       "    </tr>\n",
       "    <tr>\n",
       "      <th>3</th>\n",
       "      <td>2023-06-22</td>\n",
       "      <td>03</td>\n",
       "      <td>Mist</td>\n",
       "      <td>12.1</td>\n",
       "      <td>0</td>\n",
       "      <td>0</td>\n",
       "    </tr>\n",
       "    <tr>\n",
       "      <th>4</th>\n",
       "      <td>2023-06-22</td>\n",
       "      <td>04</td>\n",
       "      <td>Mist</td>\n",
       "      <td>12.0</td>\n",
       "      <td>0</td>\n",
       "      <td>0</td>\n",
       "    </tr>\n",
       "    <tr>\n",
       "      <th>5</th>\n",
       "      <td>2023-06-22</td>\n",
       "      <td>05</td>\n",
       "      <td>Mist</td>\n",
       "      <td>12.0</td>\n",
       "      <td>0</td>\n",
       "      <td>0</td>\n",
       "    </tr>\n",
       "    <tr>\n",
       "      <th>6</th>\n",
       "      <td>2023-06-22</td>\n",
       "      <td>06</td>\n",
       "      <td>Mist</td>\n",
       "      <td>11.9</td>\n",
       "      <td>0</td>\n",
       "      <td>0</td>\n",
       "    </tr>\n",
       "    <tr>\n",
       "      <th>7</th>\n",
       "      <td>2023-06-22</td>\n",
       "      <td>07</td>\n",
       "      <td>Sunny</td>\n",
       "      <td>16.3</td>\n",
       "      <td>0</td>\n",
       "      <td>0</td>\n",
       "    </tr>\n",
       "    <tr>\n",
       "      <th>8</th>\n",
       "      <td>2023-06-22</td>\n",
       "      <td>08</td>\n",
       "      <td>Sunny</td>\n",
       "      <td>19.5</td>\n",
       "      <td>0</td>\n",
       "      <td>0</td>\n",
       "    </tr>\n",
       "    <tr>\n",
       "      <th>9</th>\n",
       "      <td>2023-06-22</td>\n",
       "      <td>09</td>\n",
       "      <td>Sunny</td>\n",
       "      <td>22.2</td>\n",
       "      <td>0</td>\n",
       "      <td>0</td>\n",
       "    </tr>\n",
       "    <tr>\n",
       "      <th>10</th>\n",
       "      <td>2023-06-22</td>\n",
       "      <td>10</td>\n",
       "      <td>Patchy rain possible</td>\n",
       "      <td>23.4</td>\n",
       "      <td>1</td>\n",
       "      <td>77</td>\n",
       "    </tr>\n",
       "    <tr>\n",
       "      <th>11</th>\n",
       "      <td>2023-06-22</td>\n",
       "      <td>11</td>\n",
       "      <td>Patchy rain possible</td>\n",
       "      <td>24.8</td>\n",
       "      <td>1</td>\n",
       "      <td>78</td>\n",
       "    </tr>\n",
       "    <tr>\n",
       "      <th>12</th>\n",
       "      <td>2023-06-22</td>\n",
       "      <td>12</td>\n",
       "      <td>Patchy rain possible</td>\n",
       "      <td>27.1</td>\n",
       "      <td>0</td>\n",
       "      <td>60</td>\n",
       "    </tr>\n",
       "    <tr>\n",
       "      <th>13</th>\n",
       "      <td>2023-06-22</td>\n",
       "      <td>13</td>\n",
       "      <td>Patchy rain possible</td>\n",
       "      <td>27.5</td>\n",
       "      <td>1</td>\n",
       "      <td>71</td>\n",
       "    </tr>\n",
       "    <tr>\n",
       "      <th>14</th>\n",
       "      <td>2023-06-22</td>\n",
       "      <td>14</td>\n",
       "      <td>Patchy rain possible</td>\n",
       "      <td>26.9</td>\n",
       "      <td>1</td>\n",
       "      <td>86</td>\n",
       "    </tr>\n",
       "    <tr>\n",
       "      <th>15</th>\n",
       "      <td>2023-06-22</td>\n",
       "      <td>15</td>\n",
       "      <td>Sunny</td>\n",
       "      <td>26.9</td>\n",
       "      <td>0</td>\n",
       "      <td>0</td>\n",
       "    </tr>\n",
       "    <tr>\n",
       "      <th>16</th>\n",
       "      <td>2023-06-22</td>\n",
       "      <td>16</td>\n",
       "      <td>Patchy rain possible</td>\n",
       "      <td>24.6</td>\n",
       "      <td>0</td>\n",
       "      <td>62</td>\n",
       "    </tr>\n",
       "    <tr>\n",
       "      <th>17</th>\n",
       "      <td>2023-06-22</td>\n",
       "      <td>17</td>\n",
       "      <td>Sunny</td>\n",
       "      <td>22.0</td>\n",
       "      <td>0</td>\n",
       "      <td>0</td>\n",
       "    </tr>\n",
       "    <tr>\n",
       "      <th>18</th>\n",
       "      <td>2023-06-22</td>\n",
       "      <td>18</td>\n",
       "      <td>Patchy rain possible</td>\n",
       "      <td>18.0</td>\n",
       "      <td>0</td>\n",
       "      <td>60</td>\n",
       "    </tr>\n",
       "    <tr>\n",
       "      <th>19</th>\n",
       "      <td>2023-06-22</td>\n",
       "      <td>19</td>\n",
       "      <td>Patchy rain possible</td>\n",
       "      <td>15.7</td>\n",
       "      <td>1</td>\n",
       "      <td>72</td>\n",
       "    </tr>\n",
       "    <tr>\n",
       "      <th>20</th>\n",
       "      <td>2023-06-22</td>\n",
       "      <td>20</td>\n",
       "      <td>Light rain shower</td>\n",
       "      <td>14.0</td>\n",
       "      <td>1</td>\n",
       "      <td>83</td>\n",
       "    </tr>\n",
       "    <tr>\n",
       "      <th>21</th>\n",
       "      <td>2023-06-22</td>\n",
       "      <td>21</td>\n",
       "      <td>Light rain shower</td>\n",
       "      <td>13.9</td>\n",
       "      <td>1</td>\n",
       "      <td>76</td>\n",
       "    </tr>\n",
       "    <tr>\n",
       "      <th>22</th>\n",
       "      <td>2023-06-22</td>\n",
       "      <td>22</td>\n",
       "      <td>Light rain shower</td>\n",
       "      <td>13.8</td>\n",
       "      <td>1</td>\n",
       "      <td>86</td>\n",
       "    </tr>\n",
       "    <tr>\n",
       "      <th>23</th>\n",
       "      <td>2023-06-22</td>\n",
       "      <td>23</td>\n",
       "      <td>Light rain shower</td>\n",
       "      <td>13.5</td>\n",
       "      <td>1</td>\n",
       "      <td>86</td>\n",
       "    </tr>\n",
       "  </tbody>\n",
       "</table>\n",
       "</div>"
      ],
      "text/plain": [
       "         Fecha Hora             Condicion  Temp  Rain  Rain_prov\n",
       "0   2023-06-22   00  Patchy rain possible  12.6     1         77\n",
       "1   2023-06-22   01  Patchy rain possible  12.4     1         79\n",
       "2   2023-06-22   02         Partly cloudy  12.2     0          0\n",
       "3   2023-06-22   03                  Mist  12.1     0          0\n",
       "4   2023-06-22   04                  Mist  12.0     0          0\n",
       "5   2023-06-22   05                  Mist  12.0     0          0\n",
       "6   2023-06-22   06                  Mist  11.9     0          0\n",
       "7   2023-06-22   07                 Sunny  16.3     0          0\n",
       "8   2023-06-22   08                 Sunny  19.5     0          0\n",
       "9   2023-06-22   09                 Sunny  22.2     0          0\n",
       "10  2023-06-22   10  Patchy rain possible  23.4     1         77\n",
       "11  2023-06-22   11  Patchy rain possible  24.8     1         78\n",
       "12  2023-06-22   12  Patchy rain possible  27.1     0         60\n",
       "13  2023-06-22   13  Patchy rain possible  27.5     1         71\n",
       "14  2023-06-22   14  Patchy rain possible  26.9     1         86\n",
       "15  2023-06-22   15                 Sunny  26.9     0          0\n",
       "16  2023-06-22   16  Patchy rain possible  24.6     0         62\n",
       "17  2023-06-22   17                 Sunny  22.0     0          0\n",
       "18  2023-06-22   18  Patchy rain possible  18.0     0         60\n",
       "19  2023-06-22   19  Patchy rain possible  15.7     1         72\n",
       "20  2023-06-22   20     Light rain shower  14.0     1         83\n",
       "21  2023-06-22   21     Light rain shower  13.9     1         76\n",
       "22  2023-06-22   22     Light rain shower  13.8     1         86\n",
       "23  2023-06-22   23     Light rain shower  13.5     1         86"
      ]
     },
     "execution_count": 79,
     "metadata": {},
     "output_type": "execute_result"
    }
   ],
   "source": [
    "df"
   ]
  },
  {
   "cell_type": "code",
   "execution_count": null,
   "metadata": {},
   "outputs": [],
   "source": []
  }
 ],
 "metadata": {
  "kernelspec": {
   "display_name": "base",
   "language": "python",
   "name": "python3"
  },
  "language_info": {
   "codemirror_mode": {
    "name": "ipython",
    "version": 3
   },
   "file_extension": ".py",
   "mimetype": "text/x-python",
   "name": "python",
   "nbconvert_exporter": "python",
   "pygments_lexer": "ipython3",
   "version": "3.8.8"
  },
  "orig_nbformat": 4
 },
 "nbformat": 4,
 "nbformat_minor": 2
}
