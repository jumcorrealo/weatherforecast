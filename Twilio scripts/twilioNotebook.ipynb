{
 "cells": [
  {
   "cell_type": "code",
   "execution_count": 1,
   "metadata": {},
   "outputs": [],
   "source": [
    "import os\n",
    "from twilio.rest import Client\n",
    "from twilio_config import TWILIO_ACCOUNT_SID,TWILIO_AUTH_TOKEN,PHONE_NUMBER,API_KEY_WAPI\n",
    "import time\n",
    "from requests import Request, Session\n",
    "from requests.exceptions import ConnectionError, Timeout, TooManyRedirects\n",
    "import json\n",
    "import pandas as pd\n",
    "import requests\n",
    "from tqdm import tqdm\n",
    "from datetime import datetime\n",
    "from utils import request_wapi,get_forecast,create_df,send_message,get_date"
   ]
  },
  {
   "cell_type": "code",
   "execution_count": 112,
   "metadata": {},
   "outputs": [],
   "source": [
    "query = 'Medellin'\n",
    "api_key = API_KEY_WAPI\n",
    "\n",
    "url = 'http://api.weatherapi.com/v1/forecast.json?key={}&q={}&days=1&aqi=no&alerts=no'.format(api_key,query)"
   ]
  },
  {
   "cell_type": "code",
   "execution_count": 113,
   "metadata": {},
   "outputs": [],
   "source": [
    "response = requests.get(url).json()"
   ]
  },
  {
   "cell_type": "code",
   "execution_count": 114,
   "metadata": {},
   "outputs": [
    {
     "data": {
      "text/plain": [
       "dict_keys(['location', 'current', 'forecast'])"
      ]
     },
     "execution_count": 114,
     "metadata": {},
     "output_type": "execute_result"
    }
   ],
   "source": [
    "response.keys()"
   ]
  },
  {
   "cell_type": "code",
   "execution_count": 115,
   "metadata": {},
   "outputs": [
    {
     "data": {
      "text/plain": [
       "dict_keys(['date', 'date_epoch', 'day', 'astro', 'hour'])"
      ]
     },
     "execution_count": 115,
     "metadata": {},
     "output_type": "execute_result"
    }
   ],
   "source": [
    "response['forecast']['forecastday'][0].keys()"
   ]
  },
  {
   "cell_type": "code",
   "execution_count": 116,
   "metadata": {},
   "outputs": [
    {
     "data": {
      "text/plain": [
       "24"
      ]
     },
     "execution_count": 116,
     "metadata": {},
     "output_type": "execute_result"
    }
   ],
   "source": [
    "len(response['forecast']['forecastday'][0]['hour'])"
   ]
  },
  {
   "cell_type": "code",
   "execution_count": 117,
   "metadata": {},
   "outputs": [
    {
     "data": {
      "text/plain": [
       "'2023-06-20'"
      ]
     },
     "execution_count": 117,
     "metadata": {},
     "output_type": "execute_result"
    }
   ],
   "source": [
    "response['forecast']['forecastday'][0]['hour'][1]['time'].split()[0]"
   ]
  },
  {
   "cell_type": "code",
   "execution_count": 118,
   "metadata": {},
   "outputs": [
    {
     "data": {
      "text/plain": [
       "'01'"
      ]
     },
     "execution_count": 118,
     "metadata": {},
     "output_type": "execute_result"
    }
   ],
   "source": [
    "response['forecast']['forecastday'][0]['hour'][1]['time'].split()[1].split(':')[0]"
   ]
  },
  {
   "cell_type": "code",
   "execution_count": 119,
   "metadata": {},
   "outputs": [
    {
     "data": {
      "text/plain": [
       "'Clear'"
      ]
     },
     "execution_count": 119,
     "metadata": {},
     "output_type": "execute_result"
    }
   ],
   "source": [
    "response['forecast']['forecastday'][0]['hour'][0]['condition']['text']"
   ]
  },
  {
   "cell_type": "code",
   "execution_count": 120,
   "metadata": {},
   "outputs": [
    {
     "data": {
      "text/plain": [
       "12.4"
      ]
     },
     "execution_count": 120,
     "metadata": {},
     "output_type": "execute_result"
    }
   ],
   "source": [
    "response['forecast']['forecastday'][0]['hour'][0]['temp_c']"
   ]
  },
  {
   "cell_type": "code",
   "execution_count": 121,
   "metadata": {},
   "outputs": [
    {
     "data": {
      "text/plain": [
       "0"
      ]
     },
     "execution_count": 121,
     "metadata": {},
     "output_type": "execute_result"
    }
   ],
   "source": [
    "response['forecast']['forecastday'][0]['hour'][0]['will_it_rain']"
   ]
  },
  {
   "cell_type": "code",
   "execution_count": 122,
   "metadata": {},
   "outputs": [
    {
     "data": {
      "text/plain": [
       "0"
      ]
     },
     "execution_count": 122,
     "metadata": {},
     "output_type": "execute_result"
    }
   ],
   "source": [
    "response['forecast']['forecastday'][0]['hour'][0]['chance_of_rain']"
   ]
  },
  {
   "attachments": {},
   "cell_type": "markdown",
   "metadata": {},
   "source": [
    "## Dataframe"
   ]
  },
  {
   "cell_type": "code",
   "execution_count": 123,
   "metadata": {},
   "outputs": [],
   "source": [
    "def get_forecast(response,i):\n",
    "\n",
    "    fecha = response['forecast']['forecastday'][0]['hour'][i]['time'].split()[0]\n",
    "    hora = response['forecast']['forecastday'][0]['hour'][i]['time'].split()[1].split(':')[0]\n",
    "    condicion = response['forecast']['forecastday'][0]['hour'][i]['condition']['text']\n",
    "    temp = response['forecast']['forecastday'][0]['hour'][i]['temp_c']\n",
    "    rain = response['forecast']['forecastday'][0]['hour'][i]['will_it_rain']\n",
    "    rain_prov = response['forecast']['forecastday'][0]['hour'][i]['chance_of_rain']\n",
    "    \n",
    "    return fecha,hora,condicion,temp,rain,rain_prov"
   ]
  },
  {
   "cell_type": "code",
   "execution_count": 124,
   "metadata": {},
   "outputs": [
    {
     "name": "stderr",
     "output_type": "stream",
     "text": [
      "100%|\u001b[32m██████████\u001b[0m| 24/24 [00:00<?, ?it/s]\n"
     ]
    }
   ],
   "source": [
    "datos = []\n",
    "\n",
    "for i in tqdm(range(len(response['forecast']['forecastday'][0]['hour'])), colour = 'green'):\n",
    "\n",
    "    datos.append(get_forecast(response,i))"
   ]
  },
  {
   "cell_type": "code",
   "execution_count": 125,
   "metadata": {},
   "outputs": [
    {
     "data": {
      "text/plain": [
       "[('2023-06-20', '00', 'Clear', 12.4, 0, 0),\n",
       " ('2023-06-20', '01', 'Clear', 12.1, 0, 0),\n",
       " ('2023-06-20', '02', 'Partly cloudy', 12.0, 0, 0),\n",
       " ('2023-06-20', '03', 'Partly cloudy', 11.8, 0, 0),\n",
       " ('2023-06-20', '04', 'Partly cloudy', 11.7, 0, 0),\n",
       " ('2023-06-20', '05', 'Partly cloudy', 11.6, 0, 0),\n",
       " ('2023-06-20', '06', 'Partly cloudy', 11.5, 0, 0),\n",
       " ('2023-06-20', '07', 'Sunny', 14.9, 0, 0),\n",
       " ('2023-06-20', '08', 'Sunny', 18.8, 0, 0),\n",
       " ('2023-06-20', '09', 'Sunny', 21.2, 0, 0),\n",
       " ('2023-06-20', '10', 'Sunny', 23.1, 0, 0),\n",
       " ('2023-06-20', '11', 'Sunny', 25.6, 0, 0),\n",
       " ('2023-06-20', '12', 'Sunny', 28.4, 0, 0),\n",
       " ('2023-06-20', '13', 'Sunny', 29.0, 0, 0),\n",
       " ('2023-06-20', '14', 'Sunny', 28.9, 0, 0),\n",
       " ('2023-06-20', '15', 'Sunny', 28.3, 0, 0),\n",
       " ('2023-06-20', '16', 'Sunny', 26.1, 0, 0),\n",
       " ('2023-06-20', '17', 'Sunny', 24.4, 0, 0),\n",
       " ('2023-06-20', '18', 'Sunny', 20.2, 0, 0),\n",
       " ('2023-06-20', '19', 'Clear', 17.1, 0, 0),\n",
       " ('2023-06-20', '20', 'Clear', 14.2, 0, 0),\n",
       " ('2023-06-20', '21', 'Partly cloudy', 13.7, 0, 0),\n",
       " ('2023-06-20', '22', 'Partly cloudy', 13.4, 0, 0),\n",
       " ('2023-06-20', '23', 'Partly cloudy', 13.2, 0, 0)]"
      ]
     },
     "execution_count": 125,
     "metadata": {},
     "output_type": "execute_result"
    }
   ],
   "source": [
    "datos"
   ]
  },
  {
   "cell_type": "code",
   "execution_count": 126,
   "metadata": {},
   "outputs": [],
   "source": [
    "col = ['Fecha','Hora','Condicion','Temp','Rain','Rain_prov']\n",
    "df = pd.DataFrame(datos,columns=col)"
   ]
  },
  {
   "cell_type": "code",
   "execution_count": 127,
   "metadata": {},
   "outputs": [
    {
     "data": {
      "text/html": [
       "<div>\n",
       "<style scoped>\n",
       "    .dataframe tbody tr th:only-of-type {\n",
       "        vertical-align: middle;\n",
       "    }\n",
       "\n",
       "    .dataframe tbody tr th {\n",
       "        vertical-align: top;\n",
       "    }\n",
       "\n",
       "    .dataframe thead th {\n",
       "        text-align: right;\n",
       "    }\n",
       "</style>\n",
       "<table border=\"1\" class=\"dataframe\">\n",
       "  <thead>\n",
       "    <tr style=\"text-align: right;\">\n",
       "      <th></th>\n",
       "      <th>Fecha</th>\n",
       "      <th>Hora</th>\n",
       "      <th>Condicion</th>\n",
       "      <th>Temp</th>\n",
       "      <th>Rain</th>\n",
       "      <th>Rain_prov</th>\n",
       "    </tr>\n",
       "  </thead>\n",
       "  <tbody>\n",
       "    <tr>\n",
       "      <th>0</th>\n",
       "      <td>2023-06-20</td>\n",
       "      <td>00</td>\n",
       "      <td>Clear</td>\n",
       "      <td>12.4</td>\n",
       "      <td>0</td>\n",
       "      <td>0</td>\n",
       "    </tr>\n",
       "    <tr>\n",
       "      <th>1</th>\n",
       "      <td>2023-06-20</td>\n",
       "      <td>01</td>\n",
       "      <td>Clear</td>\n",
       "      <td>12.1</td>\n",
       "      <td>0</td>\n",
       "      <td>0</td>\n",
       "    </tr>\n",
       "    <tr>\n",
       "      <th>2</th>\n",
       "      <td>2023-06-20</td>\n",
       "      <td>02</td>\n",
       "      <td>Partly cloudy</td>\n",
       "      <td>12.0</td>\n",
       "      <td>0</td>\n",
       "      <td>0</td>\n",
       "    </tr>\n",
       "    <tr>\n",
       "      <th>3</th>\n",
       "      <td>2023-06-20</td>\n",
       "      <td>03</td>\n",
       "      <td>Partly cloudy</td>\n",
       "      <td>11.8</td>\n",
       "      <td>0</td>\n",
       "      <td>0</td>\n",
       "    </tr>\n",
       "    <tr>\n",
       "      <th>4</th>\n",
       "      <td>2023-06-20</td>\n",
       "      <td>04</td>\n",
       "      <td>Partly cloudy</td>\n",
       "      <td>11.7</td>\n",
       "      <td>0</td>\n",
       "      <td>0</td>\n",
       "    </tr>\n",
       "    <tr>\n",
       "      <th>5</th>\n",
       "      <td>2023-06-20</td>\n",
       "      <td>05</td>\n",
       "      <td>Partly cloudy</td>\n",
       "      <td>11.6</td>\n",
       "      <td>0</td>\n",
       "      <td>0</td>\n",
       "    </tr>\n",
       "    <tr>\n",
       "      <th>6</th>\n",
       "      <td>2023-06-20</td>\n",
       "      <td>06</td>\n",
       "      <td>Partly cloudy</td>\n",
       "      <td>11.5</td>\n",
       "      <td>0</td>\n",
       "      <td>0</td>\n",
       "    </tr>\n",
       "    <tr>\n",
       "      <th>7</th>\n",
       "      <td>2023-06-20</td>\n",
       "      <td>07</td>\n",
       "      <td>Sunny</td>\n",
       "      <td>14.9</td>\n",
       "      <td>0</td>\n",
       "      <td>0</td>\n",
       "    </tr>\n",
       "    <tr>\n",
       "      <th>8</th>\n",
       "      <td>2023-06-20</td>\n",
       "      <td>08</td>\n",
       "      <td>Sunny</td>\n",
       "      <td>18.8</td>\n",
       "      <td>0</td>\n",
       "      <td>0</td>\n",
       "    </tr>\n",
       "    <tr>\n",
       "      <th>9</th>\n",
       "      <td>2023-06-20</td>\n",
       "      <td>09</td>\n",
       "      <td>Sunny</td>\n",
       "      <td>21.2</td>\n",
       "      <td>0</td>\n",
       "      <td>0</td>\n",
       "    </tr>\n",
       "    <tr>\n",
       "      <th>10</th>\n",
       "      <td>2023-06-20</td>\n",
       "      <td>10</td>\n",
       "      <td>Sunny</td>\n",
       "      <td>23.1</td>\n",
       "      <td>0</td>\n",
       "      <td>0</td>\n",
       "    </tr>\n",
       "    <tr>\n",
       "      <th>11</th>\n",
       "      <td>2023-06-20</td>\n",
       "      <td>11</td>\n",
       "      <td>Sunny</td>\n",
       "      <td>25.6</td>\n",
       "      <td>0</td>\n",
       "      <td>0</td>\n",
       "    </tr>\n",
       "    <tr>\n",
       "      <th>12</th>\n",
       "      <td>2023-06-20</td>\n",
       "      <td>12</td>\n",
       "      <td>Sunny</td>\n",
       "      <td>28.4</td>\n",
       "      <td>0</td>\n",
       "      <td>0</td>\n",
       "    </tr>\n",
       "    <tr>\n",
       "      <th>13</th>\n",
       "      <td>2023-06-20</td>\n",
       "      <td>13</td>\n",
       "      <td>Sunny</td>\n",
       "      <td>29.0</td>\n",
       "      <td>0</td>\n",
       "      <td>0</td>\n",
       "    </tr>\n",
       "    <tr>\n",
       "      <th>14</th>\n",
       "      <td>2023-06-20</td>\n",
       "      <td>14</td>\n",
       "      <td>Sunny</td>\n",
       "      <td>28.9</td>\n",
       "      <td>0</td>\n",
       "      <td>0</td>\n",
       "    </tr>\n",
       "    <tr>\n",
       "      <th>15</th>\n",
       "      <td>2023-06-20</td>\n",
       "      <td>15</td>\n",
       "      <td>Sunny</td>\n",
       "      <td>28.3</td>\n",
       "      <td>0</td>\n",
       "      <td>0</td>\n",
       "    </tr>\n",
       "    <tr>\n",
       "      <th>16</th>\n",
       "      <td>2023-06-20</td>\n",
       "      <td>16</td>\n",
       "      <td>Sunny</td>\n",
       "      <td>26.1</td>\n",
       "      <td>0</td>\n",
       "      <td>0</td>\n",
       "    </tr>\n",
       "    <tr>\n",
       "      <th>17</th>\n",
       "      <td>2023-06-20</td>\n",
       "      <td>17</td>\n",
       "      <td>Sunny</td>\n",
       "      <td>24.4</td>\n",
       "      <td>0</td>\n",
       "      <td>0</td>\n",
       "    </tr>\n",
       "    <tr>\n",
       "      <th>18</th>\n",
       "      <td>2023-06-20</td>\n",
       "      <td>18</td>\n",
       "      <td>Sunny</td>\n",
       "      <td>20.2</td>\n",
       "      <td>0</td>\n",
       "      <td>0</td>\n",
       "    </tr>\n",
       "    <tr>\n",
       "      <th>19</th>\n",
       "      <td>2023-06-20</td>\n",
       "      <td>19</td>\n",
       "      <td>Clear</td>\n",
       "      <td>17.1</td>\n",
       "      <td>0</td>\n",
       "      <td>0</td>\n",
       "    </tr>\n",
       "    <tr>\n",
       "      <th>20</th>\n",
       "      <td>2023-06-20</td>\n",
       "      <td>20</td>\n",
       "      <td>Clear</td>\n",
       "      <td>14.2</td>\n",
       "      <td>0</td>\n",
       "      <td>0</td>\n",
       "    </tr>\n",
       "    <tr>\n",
       "      <th>21</th>\n",
       "      <td>2023-06-20</td>\n",
       "      <td>21</td>\n",
       "      <td>Partly cloudy</td>\n",
       "      <td>13.7</td>\n",
       "      <td>0</td>\n",
       "      <td>0</td>\n",
       "    </tr>\n",
       "    <tr>\n",
       "      <th>22</th>\n",
       "      <td>2023-06-20</td>\n",
       "      <td>22</td>\n",
       "      <td>Partly cloudy</td>\n",
       "      <td>13.4</td>\n",
       "      <td>0</td>\n",
       "      <td>0</td>\n",
       "    </tr>\n",
       "    <tr>\n",
       "      <th>23</th>\n",
       "      <td>2023-06-20</td>\n",
       "      <td>23</td>\n",
       "      <td>Partly cloudy</td>\n",
       "      <td>13.2</td>\n",
       "      <td>0</td>\n",
       "      <td>0</td>\n",
       "    </tr>\n",
       "  </tbody>\n",
       "</table>\n",
       "</div>"
      ],
      "text/plain": [
       "         Fecha Hora      Condicion  Temp  Rain  Rain_prov\n",
       "0   2023-06-20   00          Clear  12.4     0          0\n",
       "1   2023-06-20   01          Clear  12.1     0          0\n",
       "2   2023-06-20   02  Partly cloudy  12.0     0          0\n",
       "3   2023-06-20   03  Partly cloudy  11.8     0          0\n",
       "4   2023-06-20   04  Partly cloudy  11.7     0          0\n",
       "5   2023-06-20   05  Partly cloudy  11.6     0          0\n",
       "6   2023-06-20   06  Partly cloudy  11.5     0          0\n",
       "7   2023-06-20   07          Sunny  14.9     0          0\n",
       "8   2023-06-20   08          Sunny  18.8     0          0\n",
       "9   2023-06-20   09          Sunny  21.2     0          0\n",
       "10  2023-06-20   10          Sunny  23.1     0          0\n",
       "11  2023-06-20   11          Sunny  25.6     0          0\n",
       "12  2023-06-20   12          Sunny  28.4     0          0\n",
       "13  2023-06-20   13          Sunny  29.0     0          0\n",
       "14  2023-06-20   14          Sunny  28.9     0          0\n",
       "15  2023-06-20   15          Sunny  28.3     0          0\n",
       "16  2023-06-20   16          Sunny  26.1     0          0\n",
       "17  2023-06-20   17          Sunny  24.4     0          0\n",
       "18  2023-06-20   18          Sunny  20.2     0          0\n",
       "19  2023-06-20   19          Clear  17.1     0          0\n",
       "20  2023-06-20   20          Clear  14.2     0          0\n",
       "21  2023-06-20   21  Partly cloudy  13.7     0          0\n",
       "22  2023-06-20   22  Partly cloudy  13.4     0          0\n",
       "23  2023-06-20   23  Partly cloudy  13.2     0          0"
      ]
     },
     "execution_count": 127,
     "metadata": {},
     "output_type": "execute_result"
    }
   ],
   "source": [
    "df"
   ]
  },
  {
   "cell_type": "code",
   "execution_count": 128,
   "metadata": {},
   "outputs": [],
   "source": [
    "df = df[(df['Rain'] == 1)]\n",
    "df_redu = df[['Hora','Condicion']]\n",
    "df_redu.set_index('Hora',inplace = True)"
   ]
  },
  {
   "cell_type": "code",
   "execution_count": 129,
   "metadata": {},
   "outputs": [
    {
     "name": "stdout",
     "output_type": "stream",
     "text": [
      "no hay plan arrunchis, no va a llover :C\n"
     ]
    }
   ],
   "source": [
    "\n",
    "if df_redu.empty:\n",
    "    print('no hay plan arrunchis, no va a llover :C')\n",
    "else:\n",
    "    print('wuju')"
   ]
  },
  {
   "cell_type": "code",
   "execution_count": 130,
   "metadata": {},
   "outputs": [
    {
     "data": {
      "text/html": [
       "<div>\n",
       "<style scoped>\n",
       "    .dataframe tbody tr th:only-of-type {\n",
       "        vertical-align: middle;\n",
       "    }\n",
       "\n",
       "    .dataframe tbody tr th {\n",
       "        vertical-align: top;\n",
       "    }\n",
       "\n",
       "    .dataframe thead th {\n",
       "        text-align: right;\n",
       "    }\n",
       "</style>\n",
       "<table border=\"1\" class=\"dataframe\">\n",
       "  <thead>\n",
       "    <tr style=\"text-align: right;\">\n",
       "      <th></th>\n",
       "      <th>Condicion</th>\n",
       "    </tr>\n",
       "    <tr>\n",
       "      <th>Hora</th>\n",
       "      <th></th>\n",
       "    </tr>\n",
       "  </thead>\n",
       "  <tbody>\n",
       "  </tbody>\n",
       "</table>\n",
       "</div>"
      ],
      "text/plain": [
       "Empty DataFrame\n",
       "Columns: [Condicion]\n",
       "Index: []"
      ]
     },
     "execution_count": 130,
     "metadata": {},
     "output_type": "execute_result"
    }
   ],
   "source": [
    "df_redu"
   ]
  },
  {
   "cell_type": "code",
   "execution_count": 131,
   "metadata": {},
   "outputs": [
    {
     "data": {
      "text/plain": [
       "'+14027874717'"
      ]
     },
     "execution_count": 131,
     "metadata": {},
     "output_type": "execute_result"
    }
   ],
   "source": [
    "PHONE_NUMBER"
   ]
  },
  {
   "attachments": {},
   "cell_type": "markdown",
   "metadata": {},
   "source": [
    "## Mensaje SMS desde twilio"
   ]
  },
  {
   "cell_type": "code",
   "execution_count": 132,
   "metadata": {},
   "outputs": [],
   "source": [
    "# Download the helper library from https://www.twilio.com/docs/python/install\n",
    "import os\n",
    "from twilio.rest import Client\n"
   ]
  },
  {
   "cell_type": "code",
   "execution_count": 133,
   "metadata": {},
   "outputs": [],
   "source": [
    "time.sleep(2)\n",
    "account_sid = TWILIO_ACCOUNT_SID\n",
    "auth_token = TWILIO_AUTH_TOKEN"
   ]
  },
  {
   "cell_type": "code",
   "execution_count": 134,
   "metadata": {},
   "outputs": [],
   "source": [
    "'Hoy va a llover, abrígate bien :) \\n\\n\\n ' + str(df_redu)\n",
    "k = '+573154472305'\n",
    "j = '+573185953816'"
   ]
  },
  {
   "cell_type": "code",
   "execution_count": 111,
   "metadata": {},
   "outputs": [
    {
     "name": "stdout",
     "output_type": "stream",
     "text": [
      "Mensaje enviado:  SM7b55d9ee042e766a52b21522bb649d4c Hoy va a llover en Bogotá, abrígate bien :) \n",
      "\n",
      "\n",
      "                  Condicion\n",
      "Hora                      \n",
      "14    Patchy rain possible\n",
      "15    Patchy rain possible\n",
      "16    Patchy rain possible\n",
      "18    Patchy rain possible\n",
      "19    Patchy rain possible\n"
     ]
    }
   ],
   "source": [
    "\n",
    "\n",
    "# Find your Account SID and Auth Token at twilio.com/console\n",
    "# and set the environment variables. See http://twil.io/secure\n",
    "\n",
    "client = Client(account_sid, auth_token)\n",
    "if df_redu.empty:\n",
    "    template = 'Hoy no hay arrunchis, no va a llover :c'\n",
    "else:\n",
    "    template = 'Hoy va a llover en '+ query +', abrígate bien :) \\n\\n\\n ' + str(df_redu)\n",
    "\n",
    "message = client.messages \\\n",
    "    .create(\n",
    "        \n",
    "        body=template,\n",
    "        from_=PHONE_NUMBER,\n",
    "        to=j\n",
    "     )\n",
    "\n",
    "print('Mensaje enviado: ',message.sid, template)\n",
    "\n"
   ]
  },
  {
   "cell_type": "code",
   "execution_count": null,
   "metadata": {},
   "outputs": [],
   "source": []
  }
 ],
 "metadata": {
  "kernelspec": {
   "display_name": "base",
   "language": "python",
   "name": "python3"
  },
  "language_info": {
   "codemirror_mode": {
    "name": "ipython",
    "version": 3
   },
   "file_extension": ".py",
   "mimetype": "text/x-python",
   "name": "python",
   "nbconvert_exporter": "python",
   "pygments_lexer": "ipython3",
   "version": "3.8.8"
  },
  "orig_nbformat": 4
 },
 "nbformat": 4,
 "nbformat_minor": 2
}
